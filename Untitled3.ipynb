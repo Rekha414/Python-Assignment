{
  "nbformat": 4,
  "nbformat_minor": 0,
  "metadata": {
    "colab": {
      "provenance": []
    },
    "kernelspec": {
      "name": "python3",
      "display_name": "Python 3"
    },
    "language_info": {
      "name": "python"
    }
  },
  "cells": [
    {
      "cell_type": "code",
      "execution_count": null,
      "metadata": {
        "id": "8tMI5OsK1mNG"
      },
      "outputs": [],
      "source": []
    },
    {
      "cell_type": "markdown",
      "source": [
        "#Q1. Explain the key features of Python that make it a popular choice for programming\n"
      ],
      "metadata": {
        "id": "CpjwiL05CKkp"
      }
    },
    {
      "cell_type": "code",
      "source": [
        "\n"
      ],
      "metadata": {
        "id": "Xy25B_zzCcO1"
      },
      "execution_count": null,
      "outputs": []
    },
    {
      "cell_type": "markdown",
      "source": [
        "Ans-Python's popularity stems from its simplicity, readability, and ease of learning, making it ideal for beginners and experts alike. Its extensive standard library supports a wide range of tasks, while frameworks like Django and Flask enable efficient web development. Python is versatile, with applications in data analysis, machine learning, automation, and more. It also boasts strong community support and cross-platform compatibility. Its dynamic typing and interpreted nature allow quick development and debugging. Python's integration capabilities with other languages and tools further enhance its usability across various industries.\n"
      ],
      "metadata": {
        "id": "DFn4UQnXD1vb"
      }
    },
    {
      "cell_type": "code",
      "source": [],
      "metadata": {
        "id": "qi7uojmmEDSb"
      },
      "execution_count": null,
      "outputs": []
    },
    {
      "cell_type": "markdown",
      "source": [
        "#2 Q. Describe the role of predefined keywords in Python and provide examples of how they are used in a program\n"
      ],
      "metadata": {
        "id": "FgAOqMdVEGXw"
      }
    },
    {
      "cell_type": "code",
      "source": [],
      "metadata": {
        "id": "U2-VNE2hFeJV"
      },
      "execution_count": null,
      "outputs": []
    },
    {
      "cell_type": "markdown",
      "source": [
        "Ans - Python keywords are special reserved words that have specific meanings and purposes and can’t be used for anything but those specific purposes. These keywords are always available—you’ll never have to import them into your code.\n",
        "Example print is only used to print a statement . it cannot be useed as identifier"
      ],
      "metadata": {
        "id": "9-_L7BiuFfCg"
      }
    },
    {
      "cell_type": "code",
      "source": [],
      "metadata": {
        "id": "voOSSsUUF9z0"
      },
      "execution_count": null,
      "outputs": []
    },
    {
      "cell_type": "markdown",
      "source": [
        "Example print is only used to print a statement . it cannot be useed as identifier."
      ],
      "metadata": {
        "id": "wu8bZpFWF-dy"
      }
    },
    {
      "cell_type": "code",
      "source": [
        "print (\"hello\")"
      ],
      "metadata": {
        "colab": {
          "base_uri": "https://localhost:8080/"
        },
        "id": "U2eRCa5JGTRP",
        "outputId": "75673d74-d638-418e-fc66-8413f669f51a"
      },
      "execution_count": 1,
      "outputs": [
        {
          "output_type": "stream",
          "name": "stdout",
          "text": [
            "hello\n"
          ]
        }
      ]
    },
    {
      "cell_type": "code",
      "source": [],
      "metadata": {
        "id": "iYrxcL-SGHjN"
      },
      "execution_count": 1,
      "outputs": []
    },
    {
      "cell_type": "markdown",
      "source": [
        "#3 Q. Compare and contrast mutable and immutable objects in Python with examples\n"
      ],
      "metadata": {
        "id": "JU0FVuVdGp2p"
      }
    },
    {
      "cell_type": "code",
      "source": [],
      "metadata": {
        "id": "OP1Y45JkGsBG"
      },
      "execution_count": null,
      "outputs": []
    },
    {
      "cell_type": "markdown",
      "source": [
        "Mutable objects, such as lists and dictionaries, can be modified after creation, while immutable objects, such as tuples and strings, cannot.\n",
        "Mutability affects how objects are stored and manipulated in memory, impacting performance, memory usage, and concurrency in Python programs."
      ],
      "metadata": {
        "id": "x8rlrVKDIL62"
      }
    },
    {
      "cell_type": "code",
      "source": [
        " # list\n",
        " list = [5,6,7]\n",
        " list[0] = 'a'\n",
        " list"
      ],
      "metadata": {
        "colab": {
          "base_uri": "https://localhost:8080/"
        },
        "id": "DSfzF7wTIOSj",
        "outputId": "516de428-da9b-42b0-b9e1-95da8c6f59c5"
      },
      "execution_count": 4,
      "outputs": [
        {
          "output_type": "execute_result",
          "data": {
            "text/plain": [
              "['a', 6, 7]"
            ]
          },
          "metadata": {},
          "execution_count": 4
        }
      ]
    },
    {
      "cell_type": "code",
      "source": [
        "# dictionary\n",
        "dict = {'name' : 'Rekha', 'age' : '25'}\n",
        "dict['age'] = 26\n",
        "dict"
      ],
      "metadata": {
        "colab": {
          "base_uri": "https://localhost:8080/"
        },
        "id": "rqST4abnJjAg",
        "outputId": "e22d621c-1c68-4b43-fc88-84c77bdcb7b9"
      },
      "execution_count": 5,
      "outputs": [
        {
          "output_type": "execute_result",
          "data": {
            "text/plain": [
              "{'name': 'Rekha', 'age': 26}"
            ]
          },
          "metadata": {},
          "execution_count": 5
        }
      ]
    },
    {
      "cell_type": "markdown",
      "source": [],
      "metadata": {
        "id": "FDNNPuNDCi9H"
      }
    },
    {
      "cell_type": "code",
      "source": [
        "#set\n",
        "set = {1,2,3}\n",
        "set.add(4)\n",
        "set"
      ],
      "metadata": {
        "colab": {
          "base_uri": "https://localhost:8080/"
        },
        "id": "cFBXaMOOKxgH",
        "outputId": "67a67346-4461-43c3-c8bb-d7af6b2465a2"
      },
      "execution_count": 6,
      "outputs": [
        {
          "output_type": "execute_result",
          "data": {
            "text/plain": [
              "{1, 2, 3, 4}"
            ]
          },
          "metadata": {},
          "execution_count": 6
        }
      ]
    },
    {
      "cell_type": "markdown",
      "source": [
        "#Q4 Discuss the different types of operators in Python and provide examples of how they are used\n"
      ],
      "metadata": {
        "id": "Ln9nDxOOLFYB"
      }
    },
    {
      "cell_type": "code",
      "source": [],
      "metadata": {
        "id": "pIVlnzQRLXn5"
      },
      "execution_count": null,
      "outputs": []
    },
    {
      "cell_type": "markdown",
      "source": [
        "Types of Python Operators\n",
        "Python language supports various types of operators, which are: 1 Arithmetic Operators 2 Comparison (Relational) Operators 3 Assignment Operators 4 Logical Operators 5 Bitwise Operators 6 Membership Operators 7 Identity Operators"
      ],
      "metadata": {
        "id": "28kjNsmQLX_d"
      }
    },
    {
      "cell_type": "code",
      "source": [
        "#Examples of Python Airthmetic operators\n",
        "a = 20\n",
        "b = 10\n",
        "print( \"a + b : \", a + b )\n",
        "print(\"a - b : \", a - b )\n",
        "print(\"a * b : \", a * b )\n",
        "print(\" a / b : \", a / b )\n",
        "print(\"a % b : \", a % b )\n",
        "print(\"a ** b : \", a ** b )\n",
        "print(\"a // b : \", a // b )"
      ],
      "metadata": {
        "colab": {
          "base_uri": "https://localhost:8080/"
        },
        "id": "IJT0LDGEarww",
        "outputId": "682d1edb-ccf6-4561-adea-8d55d154a98c"
      },
      "execution_count": 2,
      "outputs": [
        {
          "output_type": "stream",
          "name": "stdout",
          "text": [
            "a + b :  30\n",
            "a - b :  10\n",
            "a * b :  200\n",
            " a / b :  2.0\n",
            "a % b :  0\n",
            "a ** b :  10240000000000\n",
            "a // b :  2\n"
          ]
        }
      ]
    },
    {
      "cell_type": "code",
      "source": [
        "#Examples of Python Comparison Oparators\n",
        "a = 20\n",
        "b = 10\n",
        "print( \"a == b : \", a == b )\n",
        "print(\"a != b : \", a != b )\n",
        "print(\"a > b : \", a > b )\n",
        "print(\"a < b : \", a < b )\n",
        "print(\" a >= b : \", a >= b )\n",
        "print(\"a <= b : \", a <= b )"
      ],
      "metadata": {
        "colab": {
          "base_uri": "https://localhost:8080/"
        },
        "id": "HpRuCooUcyts",
        "outputId": "522a1522-01e6-4240-960e-717aab93fa7d"
      },
      "execution_count": 3,
      "outputs": [
        {
          "output_type": "stream",
          "name": "stdout",
          "text": [
            "a == b :  False\n",
            "a != b :  True\n",
            "a > b :  True\n",
            "a < b :  False\n",
            " a >= b :  True\n",
            "a <= b :  False\n"
          ]
        }
      ]
    },
    {
      "cell_type": "markdown",
      "source": [],
      "metadata": {
        "id": "CEGt0tevasOi"
      }
    },
    {
      "cell_type": "code",
      "source": [
        "#Python Bitwise Operators\n",
        "a = 5 # 5 = 101\n",
        "b = 10 # 10 = 1010\n",
        "#Binary AND operator\n",
        "c = a & b # 4 = 100\n",
        "print(\" a & b : \", c)\n",
        "#Binary OR Operator\n",
        "c = a | b # 15 = 1111\n",
        "print(\" a | b : \", c)\n",
        "#Binary XOR Operator\n",
        "c = a ^ b # 13 = 1101\n",
        "print(\" a ^ b : \", c)\n",
        "#Binary One's Operator\n",
        "c = ~a # -6 = 110101\n",
        "print(\" ~a : \", c)\n",
        "#Binary left shift operator\n",
        "c = a << 1 # 10 = 10100\n",
        "print(\" a << 1 : \", c)\n",
        "#Binary right shift operator\n",
        "c = a >> 1 # 2 = 10\n",
        "print(\" a >> 1 : \", c)\n"
      ],
      "metadata": {
        "colab": {
          "base_uri": "https://localhost:8080/"
        },
        "id": "S2wWRgt8ernO",
        "outputId": "3c8813e7-d474-4362-b127-b39455c55977"
      },
      "execution_count": 4,
      "outputs": [
        {
          "output_type": "stream",
          "name": "stdout",
          "text": [
            " a & b :  0\n",
            " a | b :  15\n",
            " a ^ b :  15\n",
            " ~a :  -6\n",
            " a << 1 :  10\n",
            " a >> 1 :  2\n"
          ]
        }
      ]
    },
    {
      "cell_type": "code",
      "source": [
        "from re import X\n",
        "# Python Logical Operators\n",
        "x = 10\n",
        "y = 20\n",
        "if x > 5 and y < 25 :\n",
        "  print(\"Both x and y are within the specified range\" )\n",
        "\n",
        "\n",
        "\n"
      ],
      "metadata": {
        "colab": {
          "base_uri": "https://localhost:8080/"
        },
        "id": "A6HeJrmNiMN4",
        "outputId": "0f66993b-7fed-49a3-da0a-86777ec62991"
      },
      "execution_count": 9,
      "outputs": [
        {
          "output_type": "stream",
          "name": "stdout",
          "text": [
            "Both x and y are within the specified range\n"
          ]
        }
      ]
    },
    {
      "cell_type": "code",
      "source": [
        "#Python Membership Operators\n",
        "fruits = [ \"banana\" , \"mango\" ,\"grapes\" ]\n",
        "if \"banana\" in fruits:\n",
        "  print(\" yes, banana is a fruit! \")\n",
        "else:\n",
        "  print(\"no, banana is not a fruit! \")\n"
      ],
      "metadata": {
        "colab": {
          "base_uri": "https://localhost:8080/"
        },
        "id": "HgBa29ZWjzka",
        "outputId": "4211a212-ff51-4233-fb18-3566705c76c2"
      },
      "execution_count": 10,
      "outputs": [
        {
          "output_type": "stream",
          "name": "stdout",
          "text": [
            " yes, banana is a fruit! \n"
          ]
        }
      ]
    },
    {
      "cell_type": "code",
      "source": [
        "# Python Identity Operators\n",
        "x = 20\n",
        "y = 20\n",
        "if x is y:\n",
        "  print(\"x and y are the same object\")\n",
        "else:\n",
        "  print(\"x and y are not the same object\")"
      ],
      "metadata": {
        "colab": {
          "base_uri": "https://localhost:8080/"
        },
        "id": "v8gQjwk4lF2e",
        "outputId": "d6bed636-217e-4406-aba5-547f4314ba6c"
      },
      "execution_count": 12,
      "outputs": [
        {
          "output_type": "stream",
          "name": "stdout",
          "text": [
            "x and y are the same object\n"
          ]
        }
      ]
    },
    {
      "cell_type": "markdown",
      "source": [
        "#Q5.  Explain the concept of type casting in Python with example\n"
      ],
      "metadata": {
        "id": "27forD3flq58"
      }
    },
    {
      "cell_type": "code",
      "source": [],
      "metadata": {
        "id": "sKnbMaHolvva"
      },
      "execution_count": null,
      "outputs": []
    },
    {
      "cell_type": "markdown",
      "source": [
        "Ans- Type Casting is the method to convert the Python variable datatype into a certain data type in order to perform the required operation by users. In this article, we will see the various techniques for typecasting. There can be two types of Type Casting in Python:\n",
        "Python Implicit Type Conversion\n",
        "Python Explicit Type Conversion"
      ],
      "metadata": {
        "id": "r95Gbwy2lwG0"
      }
    },
    {
      "cell_type": "markdown",
      "source": [
        "Python Implicit Type Conversion\n"
      ],
      "metadata": {
        "id": "sQ24l8Gwl9eT"
      }
    },
    {
      "cell_type": "markdown",
      "source": [
        "Python Explicit Type Conversion\n"
      ],
      "metadata": {
        "id": "NsIZVGTjmC54"
      }
    },
    {
      "cell_type": "markdown",
      "source": [],
      "metadata": {
        "id": "F06oC-oqmHIY"
      }
    },
    {
      "cell_type": "code",
      "source": [
        "# Python program to demonstrate\n",
        "# implicit type Casting\n",
        "\n",
        "# Python automatically converts\n",
        "# a to int\n",
        "a = 7\n",
        "print(type(a) )\n",
        "\n",
        "# Python automatically converts\n",
        "# b to float\n",
        "b = 3.0\n",
        "print(type(b) )\n",
        "\n",
        "# Python automatically converts\n",
        "# c to float as it is a float addition\n",
        "c = a + b\n",
        "print(c)\n",
        "print(type(c) )\n",
        "\n",
        "# Python automatically converts\n",
        "# d to float as it is a float multiplication\n",
        "d = a * b\n",
        "print(d)\n",
        "print(type(d) )\n"
      ],
      "metadata": {
        "colab": {
          "base_uri": "https://localhost:8080/"
        },
        "id": "9klD6tIXl5EA",
        "outputId": "71e0f146-ce3c-4d0f-e3d8-e8c0863bae0d"
      },
      "execution_count": 13,
      "outputs": [
        {
          "output_type": "stream",
          "name": "stdout",
          "text": [
            "<class 'int'>\n",
            "<class 'float'>\n",
            "10.0\n",
            "<class 'float'>\n",
            "21.0\n",
            "<class 'float'>\n"
          ]
        }
      ]
    },
    {
      "cell_type": "markdown",
      "source": [
        "#Q6.  How do conditional statements work in Python? Illustrate with examples\n"
      ],
      "metadata": {
        "id": "kW6nUo3enm9F"
      }
    },
    {
      "cell_type": "markdown",
      "source": [],
      "metadata": {
        "id": "mbC-vsOlno5S"
      }
    },
    {
      "cell_type": "code",
      "source": [
        "num = 7\n",
        "if num > 0:\n",
        "  print(\"The number is positive.\")"
      ],
      "metadata": {
        "colab": {
          "base_uri": "https://localhost:8080/"
        },
        "id": "mnUjbsGznumH",
        "outputId": "59836615-611b-4541-b3fd-661d2dbc891b"
      },
      "execution_count": 14,
      "outputs": [
        {
          "output_type": "stream",
          "name": "stdout",
          "text": [
            "The number is positive.\n"
          ]
        }
      ]
    },
    {
      "cell_type": "code",
      "source": [
        "score = 85\n",
        "if score >= 90:\n",
        "  print(\"Grade: A\")\n",
        "elif score >= 80:\n",
        "  print(\"Grade: B\")\n",
        "elif score >= 70:\n",
        "  print(\"Grade: C\")\n",
        "else:\n",
        "  print(\"Grade: D\")"
      ],
      "metadata": {
        "colab": {
          "base_uri": "https://localhost:8080/"
        },
        "id": "Vw7_HtRmoIKJ",
        "outputId": "e47dcd8e-f61d-4b3e-933f-0c9c581832c9"
      },
      "execution_count": 34,
      "outputs": [
        {
          "output_type": "stream",
          "name": "stdout",
          "text": [
            "Grade: B\n"
          ]
        }
      ]
    },
    {
      "cell_type": "markdown",
      "source": [
        "#Q7.  Describe the different types of loops in Python and their use cases with examples.\n"
      ],
      "metadata": {
        "id": "21V7ysl4sqC1"
      }
    },
    {
      "cell_type": "markdown",
      "source": [
        "Ans- A loop is a control flow statement in Python that allows you to execute a piece of code repeatedly until a specific condition is met. Loops are necessary for operations that require repetitive execution, such as iterating through a Python list of items or doing calculations many times."
      ],
      "metadata": {
        "id": "9LEe9IlRsvl_"
      }
    },
    {
      "cell_type": "code",
      "source": [
        "# python while loop\n",
        "count = 0\n",
        "while (count < 10):\n",
        "  print ('The count is:', count)\n",
        "  count = count + 1\n",
        "  print ( \"Good bye!\")\n"
      ],
      "metadata": {
        "colab": {
          "base_uri": "https://localhost:8080/"
        },
        "id": "k4GuHcpatSO5",
        "outputId": "aac06f44-c9e5-4606-b16c-971a6bb15823"
      },
      "execution_count": 37,
      "outputs": [
        {
          "output_type": "stream",
          "name": "stdout",
          "text": [
            "The count is: 0\n",
            "Good bye!\n",
            "The count is: 1\n",
            "Good bye!\n",
            "The count is: 2\n",
            "Good bye!\n",
            "The count is: 3\n",
            "Good bye!\n",
            "The count is: 4\n",
            "Good bye!\n",
            "The count is: 5\n",
            "Good bye!\n",
            "The count is: 6\n",
            "Good bye!\n",
            "The count is: 7\n",
            "Good bye!\n",
            "The count is: 8\n",
            "Good bye!\n",
            "The count is: 9\n",
            "Good bye!\n"
          ]
        }
      ]
    },
    {
      "cell_type": "code",
      "source": [
        "#python for loop\n",
        "for letter in 'Python':\n",
        "  print ('Current Letter :', letter)\n",
        "fruits = ['banana', 'apple', 'mango']\n",
        "for fruit in fruits:\n",
        "  print ('Current fruit :', fruit)\n",
        "print (\"Good bye!\")"
      ],
      "metadata": {
        "colab": {
          "base_uri": "https://localhost:8080/"
        },
        "id": "SjVfy6ayu-cB",
        "outputId": "d86b65a9-d6ff-46d3-fdd9-b66cc8176a7c"
      },
      "execution_count": 38,
      "outputs": [
        {
          "output_type": "stream",
          "name": "stdout",
          "text": [
            "Current Letter : P\n",
            "Current Letter : y\n",
            "Current Letter : t\n",
            "Current Letter : h\n",
            "Current Letter : o\n",
            "Current Letter : n\n",
            "Current fruit : banana\n",
            "Current fruit : apple\n",
            "Current fruit : mango\n",
            "Good bye!\n"
          ]
        }
      ]
    },
    {
      "cell_type": "code",
      "source": [
        "#python nested loop\n",
        "i = 2\n",
        "while i < 100:\n",
        "  J = 2\n",
        "  while J <= (i/J):\n",
        "    if not(i%J): break\n",
        "    J = J + 1\n",
        "  if (J > i/J) : print (i, \" is prime\")\n",
        "  i = i + 1\n",
        "print (\"Good bye!\")"
      ],
      "metadata": {
        "colab": {
          "base_uri": "https://localhost:8080/"
        },
        "id": "b3fC4NMivcgj",
        "outputId": "d7744554-0323-446f-9543-7c6d95e83fdd"
      },
      "execution_count": 39,
      "outputs": [
        {
          "output_type": "stream",
          "name": "stdout",
          "text": [
            "2  is prime\n",
            "3  is prime\n",
            "5  is prime\n",
            "7  is prime\n",
            "11  is prime\n",
            "13  is prime\n",
            "17  is prime\n",
            "19  is prime\n",
            "23  is prime\n",
            "29  is prime\n",
            "31  is prime\n",
            "37  is prime\n",
            "41  is prime\n",
            "43  is prime\n",
            "47  is prime\n",
            "53  is prime\n",
            "59  is prime\n",
            "61  is prime\n",
            "67  is prime\n",
            "71  is prime\n",
            "73  is prime\n",
            "79  is prime\n",
            "83  is prime\n",
            "89  is prime\n",
            "97  is prime\n",
            "Good bye!\n"
          ]
        }
      ]
    },
    {
      "cell_type": "markdown",
      "source": [],
      "metadata": {
        "id": "93aDlmGps1si"
      }
    },
    {
      "cell_type": "markdown",
      "source": [],
      "metadata": {
        "id": "sbUg1xtarm_4"
      }
    },
    {
      "cell_type": "markdown",
      "source": [],
      "metadata": {
        "id": "AvVXbHM1l5gn"
      }
    },
    {
      "cell_type": "markdown",
      "source": [],
      "metadata": {
        "id": "xsX98ZRgljUF"
      }
    }
  ]
}